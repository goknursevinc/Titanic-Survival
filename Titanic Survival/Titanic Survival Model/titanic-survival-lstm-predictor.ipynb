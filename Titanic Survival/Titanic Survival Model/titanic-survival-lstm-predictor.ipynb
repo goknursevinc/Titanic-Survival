{
 "cells": [
  {
   "cell_type": "code",
   "execution_count": 141,
   "id": "1450a619",
   "metadata": {
    "_cell_guid": "b1076dfc-b9ad-4769-8c92-a6c4dae69d19",
    "_uuid": "8f2839f25d086af736a60e9eeb907d3b93b6e0e5",
    "execution": {
     "iopub.execute_input": "2023-03-08T14:13:07.058483Z",
     "iopub.status.busy": "2023-03-08T14:13:07.058038Z",
     "iopub.status.idle": "2023-03-08T14:13:16.386515Z",
     "shell.execute_reply": "2023-03-08T14:13:16.383194Z"
    },
    "papermill": {
     "duration": 9.34355,
     "end_time": "2023-03-08T14:13:16.390869",
     "exception": false,
     "start_time": "2023-03-08T14:13:07.047319",
     "status": "completed"
    },
    "tags": []
   },
   "outputs": [
    {
     "name": "stdout",
     "output_type": "stream",
     "text": [
      "2.13.0\n"
     ]
    }
   ],
   "source": [
    "import tensorflow as tf\n",
    "print(tf.__version__)"
   ]
  },
  {
   "cell_type": "code",
   "execution_count": 142,
   "id": "a7579646",
   "metadata": {
    "execution": {
     "iopub.execute_input": "2023-03-08T14:13:16.409367Z",
     "iopub.status.busy": "2023-03-08T14:13:16.408348Z",
     "iopub.status.idle": "2023-03-08T14:13:16.415082Z",
     "shell.execute_reply": "2023-03-08T14:13:16.413824Z"
    },
    "papermill": {
     "duration": 0.018826,
     "end_time": "2023-03-08T14:13:16.417696",
     "exception": false,
     "start_time": "2023-03-08T14:13:16.398870",
     "status": "completed"
    },
    "tags": []
   },
   "outputs": [],
   "source": [
    "import numpy as np\n",
    "import pandas as pd\n",
    "import matplotlib.pyplot as plt"
   ]
  },
  {
   "cell_type": "code",
   "execution_count": 143,
   "id": "02c70e9a",
   "metadata": {
    "execution": {
     "iopub.execute_input": "2023-03-08T14:13:16.434700Z",
     "iopub.status.busy": "2023-03-08T14:13:16.434200Z",
     "iopub.status.idle": "2023-03-08T14:13:16.487661Z",
     "shell.execute_reply": "2023-03-08T14:13:16.486150Z"
    },
    "papermill": {
     "duration": 0.065454,
     "end_time": "2023-03-08T14:13:16.490465",
     "exception": false,
     "start_time": "2023-03-08T14:13:16.425011",
     "status": "completed"
    },
    "tags": []
   },
   "outputs": [
    {
     "data": {
      "text/html": [
       "<div>\n",
       "<style scoped>\n",
       "    .dataframe tbody tr th:only-of-type {\n",
       "        vertical-align: middle;\n",
       "    }\n",
       "\n",
       "    .dataframe tbody tr th {\n",
       "        vertical-align: top;\n",
       "    }\n",
       "\n",
       "    .dataframe thead th {\n",
       "        text-align: right;\n",
       "    }\n",
       "</style>\n",
       "<table border=\"1\" class=\"dataframe\">\n",
       "  <thead>\n",
       "    <tr style=\"text-align: right;\">\n",
       "      <th></th>\n",
       "      <th>PassengerId</th>\n",
       "      <th>Survived</th>\n",
       "      <th>Pclass</th>\n",
       "      <th>Name</th>\n",
       "      <th>Sex</th>\n",
       "      <th>Age</th>\n",
       "      <th>SibSp</th>\n",
       "      <th>Parch</th>\n",
       "      <th>Ticket</th>\n",
       "      <th>Fare</th>\n",
       "      <th>Cabin</th>\n",
       "      <th>Embarked</th>\n",
       "    </tr>\n",
       "  </thead>\n",
       "  <tbody>\n",
       "    <tr>\n",
       "      <th>0</th>\n",
       "      <td>1</td>\n",
       "      <td>0</td>\n",
       "      <td>3</td>\n",
       "      <td>Braund, Mr. Owen Harris</td>\n",
       "      <td>male</td>\n",
       "      <td>22.0</td>\n",
       "      <td>1</td>\n",
       "      <td>0</td>\n",
       "      <td>A/5 21171</td>\n",
       "      <td>7.2500</td>\n",
       "      <td>NaN</td>\n",
       "      <td>S</td>\n",
       "    </tr>\n",
       "    <tr>\n",
       "      <th>1</th>\n",
       "      <td>2</td>\n",
       "      <td>1</td>\n",
       "      <td>1</td>\n",
       "      <td>Cumings, Mrs. John Bradley (Florence Briggs Th...</td>\n",
       "      <td>female</td>\n",
       "      <td>38.0</td>\n",
       "      <td>1</td>\n",
       "      <td>0</td>\n",
       "      <td>PC 17599</td>\n",
       "      <td>71.2833</td>\n",
       "      <td>C85</td>\n",
       "      <td>C</td>\n",
       "    </tr>\n",
       "    <tr>\n",
       "      <th>2</th>\n",
       "      <td>3</td>\n",
       "      <td>1</td>\n",
       "      <td>3</td>\n",
       "      <td>Heikkinen, Miss. Laina</td>\n",
       "      <td>female</td>\n",
       "      <td>26.0</td>\n",
       "      <td>0</td>\n",
       "      <td>0</td>\n",
       "      <td>STON/O2. 3101282</td>\n",
       "      <td>7.9250</td>\n",
       "      <td>NaN</td>\n",
       "      <td>S</td>\n",
       "    </tr>\n",
       "    <tr>\n",
       "      <th>3</th>\n",
       "      <td>4</td>\n",
       "      <td>1</td>\n",
       "      <td>1</td>\n",
       "      <td>Futrelle, Mrs. Jacques Heath (Lily May Peel)</td>\n",
       "      <td>female</td>\n",
       "      <td>35.0</td>\n",
       "      <td>1</td>\n",
       "      <td>0</td>\n",
       "      <td>113803</td>\n",
       "      <td>53.1000</td>\n",
       "      <td>C123</td>\n",
       "      <td>S</td>\n",
       "    </tr>\n",
       "    <tr>\n",
       "      <th>4</th>\n",
       "      <td>5</td>\n",
       "      <td>0</td>\n",
       "      <td>3</td>\n",
       "      <td>Allen, Mr. William Henry</td>\n",
       "      <td>male</td>\n",
       "      <td>35.0</td>\n",
       "      <td>0</td>\n",
       "      <td>0</td>\n",
       "      <td>373450</td>\n",
       "      <td>8.0500</td>\n",
       "      <td>NaN</td>\n",
       "      <td>S</td>\n",
       "    </tr>\n",
       "  </tbody>\n",
       "</table>\n",
       "</div>"
      ],
      "text/plain": [
       "   PassengerId  Survived  Pclass  \\\n",
       "0            1         0       3   \n",
       "1            2         1       1   \n",
       "2            3         1       3   \n",
       "3            4         1       1   \n",
       "4            5         0       3   \n",
       "\n",
       "                                                Name     Sex   Age  SibSp  \\\n",
       "0                            Braund, Mr. Owen Harris    male  22.0      1   \n",
       "1  Cumings, Mrs. John Bradley (Florence Briggs Th...  female  38.0      1   \n",
       "2                             Heikkinen, Miss. Laina  female  26.0      0   \n",
       "3       Futrelle, Mrs. Jacques Heath (Lily May Peel)  female  35.0      1   \n",
       "4                           Allen, Mr. William Henry    male  35.0      0   \n",
       "\n",
       "   Parch            Ticket     Fare Cabin Embarked  \n",
       "0      0         A/5 21171   7.2500   NaN        S  \n",
       "1      0          PC 17599  71.2833   C85        C  \n",
       "2      0  STON/O2. 3101282   7.9250   NaN        S  \n",
       "3      0            113803  53.1000  C123        S  \n",
       "4      0            373450   8.0500   NaN        S  "
      ]
     },
     "execution_count": 143,
     "metadata": {},
     "output_type": "execute_result"
    }
   ],
   "source": [
    "df_train = pd.read_csv('input/train.csv')\n",
    "\n",
    "df_train.head()"
   ]
  },
  {
   "cell_type": "code",
   "execution_count": 144,
   "id": "928f0e67",
   "metadata": {
    "execution": {
     "iopub.execute_input": "2023-03-08T14:13:16.507995Z",
     "iopub.status.busy": "2023-03-08T14:13:16.507542Z",
     "iopub.status.idle": "2023-03-08T14:13:16.562723Z",
     "shell.execute_reply": "2023-03-08T14:13:16.561356Z"
    },
    "papermill": {
     "duration": 0.067513,
     "end_time": "2023-03-08T14:13:16.565542",
     "exception": false,
     "start_time": "2023-03-08T14:13:16.498029",
     "status": "completed"
    },
    "tags": []
   },
   "outputs": [
    {
     "data": {
      "text/html": [
       "<div>\n",
       "<style scoped>\n",
       "    .dataframe tbody tr th:only-of-type {\n",
       "        vertical-align: middle;\n",
       "    }\n",
       "\n",
       "    .dataframe tbody tr th {\n",
       "        vertical-align: top;\n",
       "    }\n",
       "\n",
       "    .dataframe thead th {\n",
       "        text-align: right;\n",
       "    }\n",
       "</style>\n",
       "<table border=\"1\" class=\"dataframe\">\n",
       "  <thead>\n",
       "    <tr style=\"text-align: right;\">\n",
       "      <th></th>\n",
       "      <th>PassengerId</th>\n",
       "      <th>Pclass</th>\n",
       "      <th>Name</th>\n",
       "      <th>Sex</th>\n",
       "      <th>Age</th>\n",
       "      <th>SibSp</th>\n",
       "      <th>Parch</th>\n",
       "      <th>Ticket</th>\n",
       "      <th>Fare</th>\n",
       "      <th>Cabin</th>\n",
       "      <th>Embarked</th>\n",
       "      <th>Survived</th>\n",
       "    </tr>\n",
       "  </thead>\n",
       "  <tbody>\n",
       "    <tr>\n",
       "      <th>0</th>\n",
       "      <td>892</td>\n",
       "      <td>3</td>\n",
       "      <td>Kelly, Mr. James</td>\n",
       "      <td>male</td>\n",
       "      <td>34.5</td>\n",
       "      <td>0</td>\n",
       "      <td>0</td>\n",
       "      <td>330911</td>\n",
       "      <td>7.8292</td>\n",
       "      <td>NaN</td>\n",
       "      <td>Q</td>\n",
       "      <td>0</td>\n",
       "    </tr>\n",
       "    <tr>\n",
       "      <th>1</th>\n",
       "      <td>893</td>\n",
       "      <td>3</td>\n",
       "      <td>Wilkes, Mrs. James (Ellen Needs)</td>\n",
       "      <td>female</td>\n",
       "      <td>47.0</td>\n",
       "      <td>1</td>\n",
       "      <td>0</td>\n",
       "      <td>363272</td>\n",
       "      <td>7.0000</td>\n",
       "      <td>NaN</td>\n",
       "      <td>S</td>\n",
       "      <td>1</td>\n",
       "    </tr>\n",
       "    <tr>\n",
       "      <th>2</th>\n",
       "      <td>894</td>\n",
       "      <td>2</td>\n",
       "      <td>Myles, Mr. Thomas Francis</td>\n",
       "      <td>male</td>\n",
       "      <td>62.0</td>\n",
       "      <td>0</td>\n",
       "      <td>0</td>\n",
       "      <td>240276</td>\n",
       "      <td>9.6875</td>\n",
       "      <td>NaN</td>\n",
       "      <td>Q</td>\n",
       "      <td>0</td>\n",
       "    </tr>\n",
       "    <tr>\n",
       "      <th>3</th>\n",
       "      <td>895</td>\n",
       "      <td>3</td>\n",
       "      <td>Wirz, Mr. Albert</td>\n",
       "      <td>male</td>\n",
       "      <td>27.0</td>\n",
       "      <td>0</td>\n",
       "      <td>0</td>\n",
       "      <td>315154</td>\n",
       "      <td>8.6625</td>\n",
       "      <td>NaN</td>\n",
       "      <td>S</td>\n",
       "      <td>0</td>\n",
       "    </tr>\n",
       "    <tr>\n",
       "      <th>4</th>\n",
       "      <td>896</td>\n",
       "      <td>3</td>\n",
       "      <td>Hirvonen, Mrs. Alexander (Helga E Lindqvist)</td>\n",
       "      <td>female</td>\n",
       "      <td>22.0</td>\n",
       "      <td>1</td>\n",
       "      <td>1</td>\n",
       "      <td>3101298</td>\n",
       "      <td>12.2875</td>\n",
       "      <td>NaN</td>\n",
       "      <td>S</td>\n",
       "      <td>1</td>\n",
       "    </tr>\n",
       "  </tbody>\n",
       "</table>\n",
       "</div>"
      ],
      "text/plain": [
       "   PassengerId  Pclass                                          Name     Sex  \\\n",
       "0          892       3                              Kelly, Mr. James    male   \n",
       "1          893       3              Wilkes, Mrs. James (Ellen Needs)  female   \n",
       "2          894       2                     Myles, Mr. Thomas Francis    male   \n",
       "3          895       3                              Wirz, Mr. Albert    male   \n",
       "4          896       3  Hirvonen, Mrs. Alexander (Helga E Lindqvist)  female   \n",
       "\n",
       "    Age  SibSp  Parch   Ticket     Fare Cabin Embarked  Survived  \n",
       "0  34.5      0      0   330911   7.8292   NaN        Q         0  \n",
       "1  47.0      1      0   363272   7.0000   NaN        S         1  \n",
       "2  62.0      0      0   240276   9.6875   NaN        Q         0  \n",
       "3  27.0      0      0   315154   8.6625   NaN        S         0  \n",
       "4  22.0      1      1  3101298  12.2875   NaN        S         1  "
      ]
     },
     "execution_count": 144,
     "metadata": {},
     "output_type": "execute_result"
    }
   ],
   "source": [
    "#Create Validation Set\n",
    "df_valid = pd.read_csv('input/test.csv')\n",
    "df_gender = pd.read_csv('input/gender_submission.csv')\n",
    "\n",
    "df_valid = pd.merge(df_valid, df_gender, on='PassengerId')\n",
    "df_valid.dropna(subset=['Survived'], inplace=True)\n",
    "df_valid.dropna(subset=['Fare'], inplace=True)\n",
    "\n",
    "df_valid.head()"
   ]
  },
  {
   "cell_type": "code",
   "execution_count": 145,
   "id": "09d2c126",
   "metadata": {
    "execution": {
     "iopub.execute_input": "2023-03-08T14:13:16.583765Z",
     "iopub.status.busy": "2023-03-08T14:13:16.583267Z",
     "iopub.status.idle": "2023-03-08T14:13:16.591177Z",
     "shell.execute_reply": "2023-03-08T14:13:16.589989Z"
    },
    "papermill": {
     "duration": 0.020117,
     "end_time": "2023-03-08T14:13:16.593687",
     "exception": false,
     "start_time": "2023-03-08T14:13:16.573570",
     "status": "completed"
    },
    "tags": []
   },
   "outputs": [],
   "source": [
    "def manual_preprocess_df(df):\n",
    "    df = df.drop(['Name', 'PassengerId', 'Cabin', 'Ticket'], axis = 1)\n",
    "    df['Embarked'] = df['Embarked'].map({\n",
    "        'C' : 0,\n",
    "        'Q' : 1,\n",
    "        'S' : 2\n",
    "    })\n",
    "    df['Sex'] = df['Sex'].map({\n",
    "        'male' : 0,\n",
    "        'female' : 1\n",
    "    })\n",
    "    df['Age'] = df['Age'].fillna(df['Age'].mean())\n",
    "    df.dropna(subset=['Embarked'], inplace=True)\n",
    "    return df"
   ]
  },
  {
   "cell_type": "code",
   "execution_count": 146,
   "id": "6d483b3f",
   "metadata": {
    "execution": {
     "iopub.execute_input": "2023-03-08T14:13:16.611792Z",
     "iopub.status.busy": "2023-03-08T14:13:16.611242Z",
     "iopub.status.idle": "2023-03-08T14:13:16.633025Z",
     "shell.execute_reply": "2023-03-08T14:13:16.631391Z"
    },
    "papermill": {
     "duration": 0.03448,
     "end_time": "2023-03-08T14:13:16.635998",
     "exception": false,
     "start_time": "2023-03-08T14:13:16.601518",
     "status": "completed"
    },
    "tags": []
   },
   "outputs": [
    {
     "name": "stdout",
     "output_type": "stream",
     "text": [
      "<class 'pandas.core.frame.DataFrame'>\n",
      "RangeIndex: 891 entries, 0 to 890\n",
      "Data columns (total 12 columns):\n",
      " #   Column       Non-Null Count  Dtype  \n",
      "---  ------       --------------  -----  \n",
      " 0   PassengerId  891 non-null    int64  \n",
      " 1   Survived     891 non-null    int64  \n",
      " 2   Pclass       891 non-null    int64  \n",
      " 3   Name         891 non-null    object \n",
      " 4   Sex          891 non-null    object \n",
      " 5   Age          714 non-null    float64\n",
      " 6   SibSp        891 non-null    int64  \n",
      " 7   Parch        891 non-null    int64  \n",
      " 8   Ticket       891 non-null    object \n",
      " 9   Fare         891 non-null    float64\n",
      " 10  Cabin        204 non-null    object \n",
      " 11  Embarked     889 non-null    object \n",
      "dtypes: float64(2), int64(5), object(5)\n",
      "memory usage: 83.7+ KB\n"
     ]
    }
   ],
   "source": [
    "df_train.info()"
   ]
  },
  {
   "cell_type": "code",
   "execution_count": 147,
   "id": "20f09c49",
   "metadata": {
    "execution": {
     "iopub.execute_input": "2023-03-08T14:13:16.654117Z",
     "iopub.status.busy": "2023-03-08T14:13:16.653678Z",
     "iopub.status.idle": "2023-03-08T14:13:16.682743Z",
     "shell.execute_reply": "2023-03-08T14:13:16.681782Z"
    },
    "papermill": {
     "duration": 0.041391,
     "end_time": "2023-03-08T14:13:16.685574",
     "exception": false,
     "start_time": "2023-03-08T14:13:16.644183",
     "status": "completed"
    },
    "tags": []
   },
   "outputs": [
    {
     "data": {
      "text/html": [
       "<div>\n",
       "<style scoped>\n",
       "    .dataframe tbody tr th:only-of-type {\n",
       "        vertical-align: middle;\n",
       "    }\n",
       "\n",
       "    .dataframe tbody tr th {\n",
       "        vertical-align: top;\n",
       "    }\n",
       "\n",
       "    .dataframe thead th {\n",
       "        text-align: right;\n",
       "    }\n",
       "</style>\n",
       "<table border=\"1\" class=\"dataframe\">\n",
       "  <thead>\n",
       "    <tr style=\"text-align: right;\">\n",
       "      <th></th>\n",
       "      <th>Survived</th>\n",
       "      <th>Pclass</th>\n",
       "      <th>Sex</th>\n",
       "      <th>Age</th>\n",
       "      <th>SibSp</th>\n",
       "      <th>Parch</th>\n",
       "      <th>Fare</th>\n",
       "      <th>Embarked</th>\n",
       "    </tr>\n",
       "  </thead>\n",
       "  <tbody>\n",
       "    <tr>\n",
       "      <th>0</th>\n",
       "      <td>0</td>\n",
       "      <td>3</td>\n",
       "      <td>0</td>\n",
       "      <td>22.0</td>\n",
       "      <td>1</td>\n",
       "      <td>0</td>\n",
       "      <td>7.2500</td>\n",
       "      <td>2.0</td>\n",
       "    </tr>\n",
       "    <tr>\n",
       "      <th>1</th>\n",
       "      <td>1</td>\n",
       "      <td>1</td>\n",
       "      <td>1</td>\n",
       "      <td>38.0</td>\n",
       "      <td>1</td>\n",
       "      <td>0</td>\n",
       "      <td>71.2833</td>\n",
       "      <td>0.0</td>\n",
       "    </tr>\n",
       "    <tr>\n",
       "      <th>2</th>\n",
       "      <td>1</td>\n",
       "      <td>3</td>\n",
       "      <td>1</td>\n",
       "      <td>26.0</td>\n",
       "      <td>0</td>\n",
       "      <td>0</td>\n",
       "      <td>7.9250</td>\n",
       "      <td>2.0</td>\n",
       "    </tr>\n",
       "    <tr>\n",
       "      <th>3</th>\n",
       "      <td>1</td>\n",
       "      <td>1</td>\n",
       "      <td>1</td>\n",
       "      <td>35.0</td>\n",
       "      <td>1</td>\n",
       "      <td>0</td>\n",
       "      <td>53.1000</td>\n",
       "      <td>2.0</td>\n",
       "    </tr>\n",
       "    <tr>\n",
       "      <th>4</th>\n",
       "      <td>0</td>\n",
       "      <td>3</td>\n",
       "      <td>0</td>\n",
       "      <td>35.0</td>\n",
       "      <td>0</td>\n",
       "      <td>0</td>\n",
       "      <td>8.0500</td>\n",
       "      <td>2.0</td>\n",
       "    </tr>\n",
       "  </tbody>\n",
       "</table>\n",
       "</div>"
      ],
      "text/plain": [
       "   Survived  Pclass  Sex   Age  SibSp  Parch     Fare  Embarked\n",
       "0         0       3    0  22.0      1      0   7.2500       2.0\n",
       "1         1       1    1  38.0      1      0  71.2833       0.0\n",
       "2         1       3    1  26.0      0      0   7.9250       2.0\n",
       "3         1       1    1  35.0      1      0  53.1000       2.0\n",
       "4         0       3    0  35.0      0      0   8.0500       2.0"
      ]
     },
     "execution_count": 147,
     "metadata": {},
     "output_type": "execute_result"
    }
   ],
   "source": [
    "df_train = manual_preprocess_df(df_train)\n",
    "df_valid = manual_preprocess_df(df_valid)\n",
    "\n",
    "df_train.head()"
   ]
  },
  {
   "cell_type": "code",
   "execution_count": 148,
   "id": "b11072de",
   "metadata": {
    "execution": {
     "iopub.execute_input": "2023-03-08T14:13:16.705641Z",
     "iopub.status.busy": "2023-03-08T14:13:16.705201Z",
     "iopub.status.idle": "2023-03-08T14:13:16.711625Z",
     "shell.execute_reply": "2023-03-08T14:13:16.710017Z"
    },
    "papermill": {
     "duration": 0.019322,
     "end_time": "2023-03-08T14:13:16.714480",
     "exception": false,
     "start_time": "2023-03-08T14:13:16.695158",
     "status": "completed"
    },
    "tags": []
   },
   "outputs": [],
   "source": [
    "#Label - Data Splits\n",
    "def label_data_split(df):\n",
    "    y = df['Survived']\n",
    "    x = df.loc[:, df.columns != 'Survived']\n",
    "    return (x,y)"
   ]
  },
  {
   "cell_type": "code",
   "execution_count": 149,
   "id": "307aac49",
   "metadata": {
    "execution": {
     "iopub.execute_input": "2023-03-08T14:13:16.734220Z",
     "iopub.status.busy": "2023-03-08T14:13:16.733723Z",
     "iopub.status.idle": "2023-03-08T14:13:17.560581Z",
     "shell.execute_reply": "2023-03-08T14:13:17.559026Z"
    },
    "papermill": {
     "duration": 0.840985,
     "end_time": "2023-03-08T14:13:17.564093",
     "exception": false,
     "start_time": "2023-03-08T14:13:16.723108",
     "status": "completed"
    },
    "tags": []
   },
   "outputs": [],
   "source": [
    "#Train - Test Split & Shuffling\n",
    "from sklearn.utils import shuffle\n",
    "from sklearn.model_selection import train_test_split\n",
    "\n",
    "df_train = shuffle(df_train)\n",
    "\n",
    "(labels, targets) = label_data_split(df_train)\n",
    "\n",
    "x_train, x_test, y_train, y_test = train_test_split(labels, targets, test_size=0.33)"
   ]
  },
  {
   "cell_type": "code",
   "execution_count": 150,
   "id": "000c664b",
   "metadata": {
    "execution": {
     "iopub.execute_input": "2023-03-08T14:13:17.583743Z",
     "iopub.status.busy": "2023-03-08T14:13:17.583263Z",
     "iopub.status.idle": "2023-03-08T14:13:17.595564Z",
     "shell.execute_reply": "2023-03-08T14:13:17.594590Z"
    },
    "papermill": {
     "duration": 0.025253,
     "end_time": "2023-03-08T14:13:17.597985",
     "exception": false,
     "start_time": "2023-03-08T14:13:17.572732",
     "status": "completed"
    },
    "tags": []
   },
   "outputs": [],
   "source": [
    "#Scaler\n",
    "from sklearn.preprocessing import StandardScaler\n",
    "\n",
    "D = 7\n",
    "\n",
    "dataScaler = StandardScaler()\n",
    "\n",
    "x_train = dataScaler.fit_transform(x_train)\n",
    "x_test = dataScaler.transform(x_test)"
   ]
  },
  {
   "cell_type": "code",
   "execution_count": 151,
   "id": "bb62f7d6",
   "metadata": {
    "execution": {
     "iopub.execute_input": "2023-03-08T14:13:17.616701Z",
     "iopub.status.busy": "2023-03-08T14:13:17.616214Z",
     "iopub.status.idle": "2023-03-08T14:13:18.481037Z",
     "shell.execute_reply": "2023-03-08T14:13:18.479726Z"
    },
    "papermill": {
     "duration": 0.877736,
     "end_time": "2023-03-08T14:13:18.484166",
     "exception": false,
     "start_time": "2023-03-08T14:13:17.606430",
     "status": "completed"
    },
    "tags": []
   },
   "outputs": [],
   "source": [
    "#Build Model With TF Keras Functional API\n",
    "from tensorflow.keras.layers import Input, Dense, Dropout, LeakyReLU, LSTM\n",
    "from tensorflow.keras.models import Model\n",
    "\n",
    "i = Input(shape=(D,1))\n",
    "x = LSTM(32, return_sequences=True, activation=LeakyReLU(alpha=0.2))(i)\n",
    "x = Dropout(0.2)(x)\n",
    "x = LSTM(64, return_sequences=True, activation=LeakyReLU(alpha=0.3))(x)\n",
    "x = Dropout(0.2)(x)\n",
    "x = LSTM(128, activation=LeakyReLU(alpha=0.3))(x)\n",
    "x = Dropout(0.2)(x)\n",
    "x = Dense(1, activation='sigmoid')(x)\n",
    "\n",
    "model = Model(i,x)"
   ]
  },
  {
   "cell_type": "code",
   "execution_count": 152,
   "id": "14a4701b",
   "metadata": {
    "execution": {
     "iopub.execute_input": "2023-03-08T14:13:18.503007Z",
     "iopub.status.busy": "2023-03-08T14:13:18.502511Z",
     "iopub.status.idle": "2023-03-08T14:13:18.526305Z",
     "shell.execute_reply": "2023-03-08T14:13:18.524890Z"
    },
    "papermill": {
     "duration": 0.036838,
     "end_time": "2023-03-08T14:13:18.529113",
     "exception": false,
     "start_time": "2023-03-08T14:13:18.492275",
     "status": "completed"
    },
    "tags": []
   },
   "outputs": [],
   "source": [
    "from tensorflow.keras.optimizers import Adam\n",
    "\n",
    "model.compile(\n",
    "    loss = 'binary_crossentropy',\n",
    "    optimizer = Adam(\n",
    "        learning_rate=0.0011\n",
    "    ),\n",
    "    metrics = ['accuracy']\n",
    ")"
   ]
  },
  {
   "cell_type": "code",
   "execution_count": 153,
   "id": "26b410e7",
   "metadata": {
    "execution": {
     "iopub.execute_input": "2023-03-08T14:13:18.548042Z",
     "iopub.status.busy": "2023-03-08T14:13:18.547517Z",
     "iopub.status.idle": "2023-03-08T14:13:18.554482Z",
     "shell.execute_reply": "2023-03-08T14:13:18.553202Z"
    },
    "papermill": {
     "duration": 0.019381,
     "end_time": "2023-03-08T14:13:18.556779",
     "exception": false,
     "start_time": "2023-03-08T14:13:18.537398",
     "status": "completed"
    },
    "tags": []
   },
   "outputs": [],
   "source": [
    "#Early Stop For Val_Accuracy\n",
    "from tensorflow.keras.callbacks import EarlyStopping\n",
    "\n",
    "early_stop = EarlyStopping(monitor='val_accuracy', patience=15)\n"
   ]
  },
  {
   "cell_type": "code",
   "execution_count": 154,
   "id": "b10afedb",
   "metadata": {
    "execution": {
     "iopub.execute_input": "2023-03-08T14:13:18.575035Z",
     "iopub.status.busy": "2023-03-08T14:13:18.574580Z",
     "iopub.status.idle": "2023-03-08T14:13:49.597954Z",
     "shell.execute_reply": "2023-03-08T14:13:49.596624Z"
    },
    "papermill": {
     "duration": 31.036108,
     "end_time": "2023-03-08T14:13:49.600884",
     "exception": false,
     "start_time": "2023-03-08T14:13:18.564776",
     "status": "completed"
    },
    "scrolled": true,
    "tags": []
   },
   "outputs": [
    {
     "name": "stdout",
     "output_type": "stream",
     "text": [
      "Epoch 1/150\n"
     ]
    },
    {
     "name": "stdout",
     "output_type": "stream",
     "text": [
      "19/19 [==============================] - 5s 53ms/step - loss: 0.6851 - accuracy: 0.5866 - val_loss: 0.6684 - val_accuracy: 0.6361\n",
      "Epoch 2/150\n",
      "19/19 [==============================] - 0s 26ms/step - loss: 0.6681 - accuracy: 0.6084 - val_loss: 0.6539 - val_accuracy: 0.6361\n",
      "Epoch 3/150\n",
      "19/19 [==============================] - 0s 26ms/step - loss: 0.6678 - accuracy: 0.6084 - val_loss: 0.6575 - val_accuracy: 0.6361\n",
      "Epoch 4/150\n",
      "19/19 [==============================] - 0s 25ms/step - loss: 0.6639 - accuracy: 0.6084 - val_loss: 0.6459 - val_accuracy: 0.6361\n",
      "Epoch 5/150\n",
      "19/19 [==============================] - 0s 26ms/step - loss: 0.6494 - accuracy: 0.6084 - val_loss: 0.6270 - val_accuracy: 0.6327\n",
      "Epoch 6/150\n",
      "19/19 [==============================] - 0s 26ms/step - loss: 0.6324 - accuracy: 0.5966 - val_loss: 0.6096 - val_accuracy: 0.6361\n",
      "Epoch 7/150\n",
      "19/19 [==============================] - 0s 25ms/step - loss: 0.6162 - accuracy: 0.6269 - val_loss: 0.5932 - val_accuracy: 0.6803\n",
      "Epoch 8/150\n",
      "19/19 [==============================] - 0s 25ms/step - loss: 0.5937 - accuracy: 0.6824 - val_loss: 0.5683 - val_accuracy: 0.6871\n",
      "Epoch 9/150\n",
      "19/19 [==============================] - 0s 25ms/step - loss: 0.5929 - accuracy: 0.6807 - val_loss: 0.5661 - val_accuracy: 0.6803\n",
      "Epoch 10/150\n",
      "19/19 [==============================] - 0s 24ms/step - loss: 0.5941 - accuracy: 0.6840 - val_loss: 0.5935 - val_accuracy: 0.6837\n",
      "Epoch 11/150\n",
      "19/19 [==============================] - 0s 26ms/step - loss: 0.5987 - accuracy: 0.6790 - val_loss: 0.5702 - val_accuracy: 0.6837\n",
      "Epoch 12/150\n",
      "19/19 [==============================] - 0s 24ms/step - loss: 0.5985 - accuracy: 0.7092 - val_loss: 0.5679 - val_accuracy: 0.6701\n",
      "Epoch 13/150\n",
      "19/19 [==============================] - 0s 26ms/step - loss: 0.5827 - accuracy: 0.6891 - val_loss: 0.5576 - val_accuracy: 0.7075\n",
      "Epoch 14/150\n",
      "19/19 [==============================] - 0s 25ms/step - loss: 0.5664 - accuracy: 0.6941 - val_loss: 0.5430 - val_accuracy: 0.6769\n",
      "Epoch 15/150\n",
      "19/19 [==============================] - 0s 25ms/step - loss: 0.5619 - accuracy: 0.7126 - val_loss: 0.5354 - val_accuracy: 0.6905\n",
      "Epoch 16/150\n",
      "19/19 [==============================] - 0s 24ms/step - loss: 0.5479 - accuracy: 0.7378 - val_loss: 0.5217 - val_accuracy: 0.7177\n",
      "Epoch 17/150\n",
      "19/19 [==============================] - 0s 26ms/step - loss: 0.5355 - accuracy: 0.7227 - val_loss: 0.5645 - val_accuracy: 0.7109\n",
      "Epoch 18/150\n",
      "19/19 [==============================] - 0s 27ms/step - loss: 0.5794 - accuracy: 0.7076 - val_loss: 0.5313 - val_accuracy: 0.7245\n",
      "Epoch 19/150\n",
      "19/19 [==============================] - 0s 25ms/step - loss: 0.5420 - accuracy: 0.7176 - val_loss: 0.5045 - val_accuracy: 0.7279\n",
      "Epoch 20/150\n",
      "19/19 [==============================] - 1s 27ms/step - loss: 0.5272 - accuracy: 0.7261 - val_loss: 0.5045 - val_accuracy: 0.7347\n",
      "Epoch 21/150\n",
      "19/19 [==============================] - 0s 25ms/step - loss: 0.5142 - accuracy: 0.7412 - val_loss: 0.4948 - val_accuracy: 0.7483\n",
      "Epoch 22/150\n",
      "19/19 [==============================] - 1s 27ms/step - loss: 0.5267 - accuracy: 0.7143 - val_loss: 0.4839 - val_accuracy: 0.7585\n",
      "Epoch 23/150\n",
      "19/19 [==============================] - 0s 26ms/step - loss: 0.5133 - accuracy: 0.7630 - val_loss: 0.4775 - val_accuracy: 0.7857\n",
      "Epoch 24/150\n",
      "19/19 [==============================] - 0s 27ms/step - loss: 0.5086 - accuracy: 0.7546 - val_loss: 0.4750 - val_accuracy: 0.7925\n",
      "Epoch 25/150\n",
      "19/19 [==============================] - 0s 24ms/step - loss: 0.5113 - accuracy: 0.7630 - val_loss: 0.4685 - val_accuracy: 0.7483\n",
      "Epoch 26/150\n",
      "19/19 [==============================] - 1s 28ms/step - loss: 0.5232 - accuracy: 0.7378 - val_loss: 0.4899 - val_accuracy: 0.8027\n",
      "Epoch 27/150\n",
      "19/19 [==============================] - 0s 26ms/step - loss: 0.5059 - accuracy: 0.7613 - val_loss: 0.4600 - val_accuracy: 0.8061\n",
      "Epoch 28/150\n",
      "19/19 [==============================] - 0s 25ms/step - loss: 0.4973 - accuracy: 0.7798 - val_loss: 0.4493 - val_accuracy: 0.7755\n",
      "Epoch 29/150\n",
      "19/19 [==============================] - 0s 26ms/step - loss: 0.5001 - accuracy: 0.7697 - val_loss: 0.4607 - val_accuracy: 0.7619\n",
      "Epoch 30/150\n",
      "19/19 [==============================] - 0s 26ms/step - loss: 0.4818 - accuracy: 0.7748 - val_loss: 0.4415 - val_accuracy: 0.8027\n",
      "Epoch 31/150\n",
      "19/19 [==============================] - 0s 26ms/step - loss: 0.4746 - accuracy: 0.7933 - val_loss: 0.4335 - val_accuracy: 0.8027\n",
      "Epoch 32/150\n",
      "19/19 [==============================] - 0s 26ms/step - loss: 0.4735 - accuracy: 0.7782 - val_loss: 0.4287 - val_accuracy: 0.8027\n",
      "Epoch 33/150\n",
      "19/19 [==============================] - 0s 26ms/step - loss: 0.4780 - accuracy: 0.7832 - val_loss: 0.4286 - val_accuracy: 0.7993\n",
      "Epoch 34/150\n",
      "19/19 [==============================] - 0s 24ms/step - loss: 0.4762 - accuracy: 0.7950 - val_loss: 0.4364 - val_accuracy: 0.7993\n",
      "Epoch 35/150\n",
      "19/19 [==============================] - 0s 26ms/step - loss: 0.4758 - accuracy: 0.7798 - val_loss: 0.4429 - val_accuracy: 0.7857\n",
      "Epoch 36/150\n",
      "19/19 [==============================] - 0s 26ms/step - loss: 0.4642 - accuracy: 0.7983 - val_loss: 0.4309 - val_accuracy: 0.8163\n",
      "Epoch 37/150\n",
      "19/19 [==============================] - 0s 26ms/step - loss: 0.4684 - accuracy: 0.7916 - val_loss: 0.4176 - val_accuracy: 0.7993\n",
      "Epoch 38/150\n",
      "19/19 [==============================] - 0s 24ms/step - loss: 0.4687 - accuracy: 0.7882 - val_loss: 0.4144 - val_accuracy: 0.8061\n",
      "Epoch 39/150\n",
      "19/19 [==============================] - 0s 25ms/step - loss: 0.4686 - accuracy: 0.8084 - val_loss: 0.4126 - val_accuracy: 0.8095\n",
      "Epoch 40/150\n",
      "19/19 [==============================] - 1s 30ms/step - loss: 0.4610 - accuracy: 0.8067 - val_loss: 0.4159 - val_accuracy: 0.7993\n",
      "Epoch 41/150\n",
      "19/19 [==============================] - 0s 25ms/step - loss: 0.4550 - accuracy: 0.7966 - val_loss: 0.4115 - val_accuracy: 0.8027\n",
      "Epoch 42/150\n",
      "19/19 [==============================] - 0s 26ms/step - loss: 0.4560 - accuracy: 0.7966 - val_loss: 0.4029 - val_accuracy: 0.8129\n",
      "Epoch 43/150\n",
      "19/19 [==============================] - 0s 25ms/step - loss: 0.4505 - accuracy: 0.8034 - val_loss: 0.4050 - val_accuracy: 0.8095\n",
      "Epoch 44/150\n",
      "19/19 [==============================] - 1s 28ms/step - loss: 0.4598 - accuracy: 0.7966 - val_loss: 0.3985 - val_accuracy: 0.8197\n",
      "Epoch 45/150\n",
      "19/19 [==============================] - 0s 25ms/step - loss: 0.4542 - accuracy: 0.7983 - val_loss: 0.3960 - val_accuracy: 0.8197\n",
      "Epoch 46/150\n",
      "19/19 [==============================] - 0s 26ms/step - loss: 0.4474 - accuracy: 0.8034 - val_loss: 0.4004 - val_accuracy: 0.8231\n",
      "Epoch 47/150\n",
      "19/19 [==============================] - 0s 26ms/step - loss: 0.4580 - accuracy: 0.7899 - val_loss: 0.4020 - val_accuracy: 0.8129\n",
      "Epoch 48/150\n",
      "19/19 [==============================] - 0s 26ms/step - loss: 0.4596 - accuracy: 0.8101 - val_loss: 0.3963 - val_accuracy: 0.8197\n",
      "Epoch 49/150\n",
      "19/19 [==============================] - 0s 25ms/step - loss: 0.4466 - accuracy: 0.8067 - val_loss: 0.3868 - val_accuracy: 0.8231\n",
      "Epoch 50/150\n",
      "19/19 [==============================] - 0s 26ms/step - loss: 0.4558 - accuracy: 0.8067 - val_loss: 0.3903 - val_accuracy: 0.8197\n",
      "Epoch 51/150\n",
      "19/19 [==============================] - 0s 25ms/step - loss: 0.4459 - accuracy: 0.8168 - val_loss: 0.3911 - val_accuracy: 0.8197\n",
      "Epoch 52/150\n",
      "19/19 [==============================] - 0s 26ms/step - loss: 0.4588 - accuracy: 0.7966 - val_loss: 0.3945 - val_accuracy: 0.8163\n",
      "Epoch 53/150\n",
      "19/19 [==============================] - 0s 25ms/step - loss: 0.4373 - accuracy: 0.8118 - val_loss: 0.3816 - val_accuracy: 0.8265\n",
      "Epoch 54/150\n",
      "19/19 [==============================] - 0s 26ms/step - loss: 0.4599 - accuracy: 0.7849 - val_loss: 0.3925 - val_accuracy: 0.8231\n",
      "Epoch 55/150\n",
      "19/19 [==============================] - 1s 27ms/step - loss: 0.4400 - accuracy: 0.8067 - val_loss: 0.3722 - val_accuracy: 0.8265\n",
      "Epoch 56/150\n",
      "19/19 [==============================] - 0s 24ms/step - loss: 0.4383 - accuracy: 0.8151 - val_loss: 0.3865 - val_accuracy: 0.8299\n",
      "Epoch 57/150\n",
      "19/19 [==============================] - 0s 26ms/step - loss: 0.4304 - accuracy: 0.8185 - val_loss: 0.3931 - val_accuracy: 0.8163\n",
      "Epoch 58/150\n",
      "19/19 [==============================] - 0s 25ms/step - loss: 0.4359 - accuracy: 0.8084 - val_loss: 0.3780 - val_accuracy: 0.8299\n",
      "Epoch 59/150\n",
      "19/19 [==============================] - 0s 26ms/step - loss: 0.4316 - accuracy: 0.8202 - val_loss: 0.3798 - val_accuracy: 0.8299\n",
      "Epoch 60/150\n",
      "19/19 [==============================] - 0s 26ms/step - loss: 0.4379 - accuracy: 0.8235 - val_loss: 0.3842 - val_accuracy: 0.8299\n",
      "Epoch 61/150\n",
      "19/19 [==============================] - 0s 25ms/step - loss: 0.4319 - accuracy: 0.8034 - val_loss: 0.3756 - val_accuracy: 0.8265\n",
      "Epoch 62/150\n",
      "19/19 [==============================] - 0s 25ms/step - loss: 0.4390 - accuracy: 0.8101 - val_loss: 0.4002 - val_accuracy: 0.8197\n",
      "Epoch 63/150\n",
      "19/19 [==============================] - 0s 25ms/step - loss: 0.4363 - accuracy: 0.8134 - val_loss: 0.3847 - val_accuracy: 0.8265\n",
      "Epoch 64/150\n",
      "19/19 [==============================] - 0s 24ms/step - loss: 0.4313 - accuracy: 0.8235 - val_loss: 0.3772 - val_accuracy: 0.8197\n",
      "Epoch 65/150\n",
      "19/19 [==============================] - 1s 28ms/step - loss: 0.4276 - accuracy: 0.8252 - val_loss: 0.3719 - val_accuracy: 0.8265\n",
      "Epoch 66/150\n",
      "19/19 [==============================] - 1s 29ms/step - loss: 0.4307 - accuracy: 0.8218 - val_loss: 0.3790 - val_accuracy: 0.8265\n",
      "Epoch 67/150\n",
      "19/19 [==============================] - 1s 28ms/step - loss: 0.4268 - accuracy: 0.8134 - val_loss: 0.3796 - val_accuracy: 0.8197\n",
      "Epoch 68/150\n",
      "19/19 [==============================] - 1s 28ms/step - loss: 0.4336 - accuracy: 0.8218 - val_loss: 0.3852 - val_accuracy: 0.8231\n",
      "Epoch 69/150\n",
      "19/19 [==============================] - 1s 31ms/step - loss: 0.4187 - accuracy: 0.8202 - val_loss: 0.3787 - val_accuracy: 0.8197\n",
      "Epoch 70/150\n",
      "19/19 [==============================] - 1s 28ms/step - loss: 0.4195 - accuracy: 0.8218 - val_loss: 0.3762 - val_accuracy: 0.8333\n",
      "Epoch 71/150\n",
      "19/19 [==============================] - 1s 29ms/step - loss: 0.4200 - accuracy: 0.8218 - val_loss: 0.3890 - val_accuracy: 0.8231\n",
      "Epoch 72/150\n",
      "19/19 [==============================] - 1s 28ms/step - loss: 0.4247 - accuracy: 0.8202 - val_loss: 0.3792 - val_accuracy: 0.8333\n",
      "Epoch 73/150\n",
      "19/19 [==============================] - 1s 28ms/step - loss: 0.4163 - accuracy: 0.8336 - val_loss: 0.3816 - val_accuracy: 0.8265\n",
      "Epoch 74/150\n",
      "19/19 [==============================] - 1s 28ms/step - loss: 0.4334 - accuracy: 0.8185 - val_loss: 0.3866 - val_accuracy: 0.8265\n",
      "Epoch 75/150\n",
      "19/19 [==============================] - 1s 30ms/step - loss: 0.4195 - accuracy: 0.8336 - val_loss: 0.3747 - val_accuracy: 0.8265\n",
      "Epoch 76/150\n",
      "19/19 [==============================] - 1s 28ms/step - loss: 0.4255 - accuracy: 0.8218 - val_loss: 0.3717 - val_accuracy: 0.8299\n",
      "Epoch 77/150\n",
      "19/19 [==============================] - 1s 27ms/step - loss: 0.4201 - accuracy: 0.8252 - val_loss: 0.3761 - val_accuracy: 0.8299\n",
      "Epoch 78/150\n",
      "19/19 [==============================] - 1s 29ms/step - loss: 0.4258 - accuracy: 0.8134 - val_loss: 0.3983 - val_accuracy: 0.8129\n",
      "Epoch 79/150\n",
      "19/19 [==============================] - 1s 27ms/step - loss: 0.4369 - accuracy: 0.7983 - val_loss: 0.3883 - val_accuracy: 0.8299\n",
      "Epoch 80/150\n",
      "19/19 [==============================] - 1s 27ms/step - loss: 0.4312 - accuracy: 0.8202 - val_loss: 0.3700 - val_accuracy: 0.8231\n",
      "Epoch 81/150\n",
      "19/19 [==============================] - 1s 29ms/step - loss: 0.4176 - accuracy: 0.8286 - val_loss: 0.3725 - val_accuracy: 0.8265\n",
      "Epoch 82/150\n",
      "19/19 [==============================] - 1s 28ms/step - loss: 0.4189 - accuracy: 0.8185 - val_loss: 0.3883 - val_accuracy: 0.8265\n",
      "Epoch 83/150\n",
      "19/19 [==============================] - 1s 28ms/step - loss: 0.4351 - accuracy: 0.8168 - val_loss: 0.3757 - val_accuracy: 0.8333\n",
      "Epoch 84/150\n",
      "19/19 [==============================] - 1s 29ms/step - loss: 0.4269 - accuracy: 0.8185 - val_loss: 0.3809 - val_accuracy: 0.8299\n",
      "Epoch 85/150\n",
      "19/19 [==============================] - 1s 27ms/step - loss: 0.4222 - accuracy: 0.8134 - val_loss: 0.3693 - val_accuracy: 0.8265\n"
     ]
    }
   ],
   "source": [
    "r = model.fit(\n",
    "    x_train,\n",
    "    y_train,\n",
    "    validation_data=(x_test,y_test),\n",
    "    epochs = 150,\n",
    "    callbacks=[early_stop]\n",
    ")"
   ]
  },
  {
   "cell_type": "code",
   "execution_count": 155,
   "id": "732b5ebd",
   "metadata": {},
   "outputs": [
    {
     "data": {
      "image/png": "[encoded data removed]",
      "text/plain": [
       "<Figure size 800x600 with 2 Axes>"
      ]
     },
     "metadata": {},
     "output_type": "display_data"
    }
   ],
   "source": [
    "# Calculate and plot confusion matrix for the test set\n",
    "y_pred_test_binary = (y_pred_test > 0.5).astype(int)\n",
    "conf_matrix_test = confusion_matrix(y_test, y_pred_test_binary)\n",
    "\n",
    "plt.figure(figsize=(8, 6))\n",
    "sns.heatmap(conf_matrix_test, annot=True, fmt='g', cmap='Blues', \n",
    "            xticklabels=['Not Survived', 'Survived'], \n",
    "            yticklabels=['Not Survived', 'Survived'])\n",
    "plt.xlabel('Predicted')\n",
    "plt.ylabel('True')\n",
    "plt.title('Confusion Matrix - Test Set')\n",
    "plt.show()"
   ]
  },
  {
   "cell_type": "code",
   "execution_count": 156,
   "id": "aaf4faef",
   "metadata": {
    "execution": {
     "iopub.execute_input": "2023-03-08T14:13:49.671256Z",
     "iopub.status.busy": "2023-03-08T14:13:49.670743Z",
     "iopub.status.idle": "2023-03-08T14:14:04.894019Z",
     "shell.execute_reply": "2023-03-08T14:14:04.892650Z"
    },
    "papermill": {
     "duration": 15.263152,
     "end_time": "2023-03-08T14:14:04.897596",
     "exception": false,
     "start_time": "2023-03-08T14:13:49.634444",
     "status": "completed"
    },
    "tags": []
   },
   "outputs": [
    {
     "data": {
      "text/plain": [
       "<matplotlib.legend.Legend at 0x278911827c0>"
      ]
     },
     "execution_count": 156,
     "metadata": {},
     "output_type": "execute_result"
    },
    {
     "data": {
      "image/png": "[encoded data removed]",
      "text/plain": [
       "<Figure size 640x480 with 1 Axes>"
      ]
     },
     "metadata": {},
     "output_type": "display_data"
    }
   ],
   "source": [
    "plt.plot(r.history['loss'], label = 'loss')\n",
    "plt.plot(r.history['val_loss'], label = 'val_loss')\n",
    "\n",
    "plt.legend()"
   ]
  },
  {
   "cell_type": "code",
   "execution_count": 157,
   "id": "54d0d4b6",
   "metadata": {
    "execution": {
     "iopub.execute_input": "2023-03-08T14:14:04.972456Z",
     "iopub.status.busy": "2023-03-08T14:14:04.971381Z",
     "iopub.status.idle": "2023-03-08T14:14:05.215612Z",
     "shell.execute_reply": "2023-03-08T14:14:05.214099Z"
    },
    "papermill": {
     "duration": 0.284638,
     "end_time": "2023-03-08T14:14:05.218525",
     "exception": false,
     "start_time": "2023-03-08T14:14:04.933887",
     "status": "completed"
    },
    "tags": []
   },
   "outputs": [
    {
     "data": {
      "text/plain": [
       "<matplotlib.legend.Legend at 0x278911c4bb0>"
      ]
     },
     "execution_count": 157,
     "metadata": {},
     "output_type": "execute_result"
    },
    {
     "data": {
      "image/png": "[encoded data removed]",
      "text/plain": [
       "<Figure size 640x480 with 1 Axes>"
      ]
     },
     "metadata": {},
     "output_type": "display_data"
    }
   ],
   "source": [
    "plt.plot(r.history['accuracy'], label = 'accuracy')\n",
    "plt.plot(r.history['val_accuracy'], label = 'val_accuracy')\n",
    "\n",
    "plt.legend()"
   ]
  },
  {
   "cell_type": "code",
   "execution_count": 158,
   "id": "82e24ba7",
   "metadata": {
    "execution": {
     "iopub.execute_input": "2023-03-08T14:14:05.293877Z",
     "iopub.status.busy": "2023-03-08T14:14:05.293412Z",
     "iopub.status.idle": "2023-03-08T14:14:05.456370Z",
     "shell.execute_reply": "2023-03-08T14:14:05.455293Z"
    },
    "papermill": {
     "duration": 0.203758,
     "end_time": "2023-03-08T14:14:05.458904",
     "exception": false,
     "start_time": "2023-03-08T14:14:05.255146",
     "status": "completed"
    },
    "tags": []
   },
   "outputs": [
    {
     "name": "stdout",
     "output_type": "stream",
     "text": [
      "10/10 [==============================] - 0s 9ms/step - loss: 0.3693 - accuracy: 0.8265\n"
     ]
    }
   ],
   "source": [
    "#Evaluate Split Train Data\n",
    "split_evals = model.evaluate(\n",
    "    x_test,\n",
    "    y_test\n",
    ")"
   ]
  },
  {
   "cell_type": "code",
   "execution_count": 159,
   "id": "07c83065",
   "metadata": {
    "execution": {
     "iopub.execute_input": "2023-03-08T14:14:05.533231Z",
     "iopub.status.busy": "2023-03-08T14:14:05.531730Z",
     "iopub.status.idle": "2023-03-08T14:14:05.730077Z",
     "shell.execute_reply": "2023-03-08T14:14:05.728804Z"
    },
    "papermill": {
     "duration": 0.23862,
     "end_time": "2023-03-08T14:14:05.733261",
     "exception": false,
     "start_time": "2023-03-08T14:14:05.494641",
     "status": "completed"
    },
    "tags": []
   },
   "outputs": [
    {
     "name": "stdout",
     "output_type": "stream",
     "text": [
      "14/14 [==============================] - 0s 8ms/step - loss: 0.3305 - accuracy: 0.9329\n"
     ]
    }
   ],
   "source": [
    "#Evaluate with merged submission sample\n",
    "(x_valid, y_valid) = label_data_split(df_valid)\n",
    "\n",
    "x_valid = dataScaler.transform(x_valid)\n",
    "\n",
    "merged_evals = model.evaluate(\n",
    "    x_valid,\n",
    "    y_valid\n",
    ")"
   ]
  },
  {
   "cell_type": "code",
   "execution_count": 160,
   "id": "197bfa70",
   "metadata": {
    "execution": {
     "iopub.execute_input": "2023-03-08T14:14:05.808037Z",
     "iopub.status.busy": "2023-03-08T14:14:05.806312Z",
     "iopub.status.idle": "2023-03-08T14:14:06.037016Z",
     "shell.execute_reply": "2023-03-08T14:14:06.035818Z"
    },
    "papermill": {
     "duration": 0.27031,
     "end_time": "2023-03-08T14:14:06.039816",
     "exception": false,
     "start_time": "2023-03-08T14:14:05.769506",
     "status": "completed"
    },
    "tags": []
   },
   "outputs": [
    {
     "data": {
      "text/plain": [
       "<BarContainer object of 4 artists>"
      ]
     },
     "execution_count": 160,
     "metadata": {},
     "output_type": "execute_result"
    },
    {
     "data": {
      "image/png": "[encoded data removed]",
      "text/plain": [
       "<Figure size 640x480 with 1 Axes>"
      ]
     },
     "metadata": {},
     "output_type": "display_data"
    }
   ],
   "source": [
    "labels = [\"split_loss\", \"merged_loss\", \"split_accuracy\", \"merged_accuracy\"]\n",
    "values = [split_evals[0], merged_evals[0], split_evals[1], merged_evals[1]]\n",
    "\n",
    "plt.bar(labels, values)"
   ]
  },
  {
   "cell_type": "markdown",
   "id": "471078de",
   "metadata": {
    "papermill": {
     "duration": 0.036003,
     "end_time": "2023-03-08T14:14:06.111962",
     "exception": false,
     "start_time": "2023-03-08T14:14:06.075959",
     "status": "completed"
    },
    "tags": []
   },
   "source": [
    "## Create Submission"
   ]
  },
  {
   "cell_type": "code",
   "execution_count": 161,
   "id": "a26f3cee",
   "metadata": {
    "execution": {
     "iopub.execute_input": "2023-03-08T14:14:06.187942Z",
     "iopub.status.busy": "2023-03-08T14:14:06.187492Z",
     "iopub.status.idle": "2023-03-08T14:14:06.210598Z",
     "shell.execute_reply": "2023-03-08T14:14:06.209237Z"
    },
    "papermill": {
     "duration": 0.065087,
     "end_time": "2023-03-08T14:14:06.213294",
     "exception": false,
     "start_time": "2023-03-08T14:14:06.148207",
     "status": "completed"
    },
    "tags": []
   },
   "outputs": [
    {
     "data": {
      "text/html": [
       "<div>\n",
       "<style scoped>\n",
       "    .dataframe tbody tr th:only-of-type {\n",
       "        vertical-align: middle;\n",
       "    }\n",
       "\n",
       "    .dataframe tbody tr th {\n",
       "        vertical-align: top;\n",
       "    }\n",
       "\n",
       "    .dataframe thead th {\n",
       "        text-align: right;\n",
       "    }\n",
       "</style>\n",
       "<table border=\"1\" class=\"dataframe\">\n",
       "  <thead>\n",
       "    <tr style=\"text-align: right;\">\n",
       "      <th></th>\n",
       "      <th>PassengerId</th>\n",
       "      <th>Pclass</th>\n",
       "      <th>Name</th>\n",
       "      <th>Sex</th>\n",
       "      <th>Age</th>\n",
       "      <th>SibSp</th>\n",
       "      <th>Parch</th>\n",
       "      <th>Ticket</th>\n",
       "      <th>Fare</th>\n",
       "      <th>Cabin</th>\n",
       "      <th>Embarked</th>\n",
       "    </tr>\n",
       "  </thead>\n",
       "  <tbody>\n",
       "    <tr>\n",
       "      <th>0</th>\n",
       "      <td>892</td>\n",
       "      <td>3</td>\n",
       "      <td>Kelly, Mr. James</td>\n",
       "      <td>male</td>\n",
       "      <td>34.5</td>\n",
       "      <td>0</td>\n",
       "      <td>0</td>\n",
       "      <td>330911</td>\n",
       "      <td>7.8292</td>\n",
       "      <td>NaN</td>\n",
       "      <td>Q</td>\n",
       "    </tr>\n",
       "    <tr>\n",
       "      <th>1</th>\n",
       "      <td>893</td>\n",
       "      <td>3</td>\n",
       "      <td>Wilkes, Mrs. James (Ellen Needs)</td>\n",
       "      <td>female</td>\n",
       "      <td>47.0</td>\n",
       "      <td>1</td>\n",
       "      <td>0</td>\n",
       "      <td>363272</td>\n",
       "      <td>7.0000</td>\n",
       "      <td>NaN</td>\n",
       "      <td>S</td>\n",
       "    </tr>\n",
       "    <tr>\n",
       "      <th>2</th>\n",
       "      <td>894</td>\n",
       "      <td>2</td>\n",
       "      <td>Myles, Mr. Thomas Francis</td>\n",
       "      <td>male</td>\n",
       "      <td>62.0</td>\n",
       "      <td>0</td>\n",
       "      <td>0</td>\n",
       "      <td>240276</td>\n",
       "      <td>9.6875</td>\n",
       "      <td>NaN</td>\n",
       "      <td>Q</td>\n",
       "    </tr>\n",
       "    <tr>\n",
       "      <th>3</th>\n",
       "      <td>895</td>\n",
       "      <td>3</td>\n",
       "      <td>Wirz, Mr. Albert</td>\n",
       "      <td>male</td>\n",
       "      <td>27.0</td>\n",
       "      <td>0</td>\n",
       "      <td>0</td>\n",
       "      <td>315154</td>\n",
       "      <td>8.6625</td>\n",
       "      <td>NaN</td>\n",
       "      <td>S</td>\n",
       "    </tr>\n",
       "    <tr>\n",
       "      <th>4</th>\n",
       "      <td>896</td>\n",
       "      <td>3</td>\n",
       "      <td>Hirvonen, Mrs. Alexander (Helga E Lindqvist)</td>\n",
       "      <td>female</td>\n",
       "      <td>22.0</td>\n",
       "      <td>1</td>\n",
       "      <td>1</td>\n",
       "      <td>3101298</td>\n",
       "      <td>12.2875</td>\n",
       "      <td>NaN</td>\n",
       "      <td>S</td>\n",
       "    </tr>\n",
       "  </tbody>\n",
       "</table>\n",
       "</div>"
      ],
      "text/plain": [
       "   PassengerId  Pclass                                          Name     Sex  \\\n",
       "0          892       3                              Kelly, Mr. James    male   \n",
       "1          893       3              Wilkes, Mrs. James (Ellen Needs)  female   \n",
       "2          894       2                     Myles, Mr. Thomas Francis    male   \n",
       "3          895       3                              Wirz, Mr. Albert    male   \n",
       "4          896       3  Hirvonen, Mrs. Alexander (Helga E Lindqvist)  female   \n",
       "\n",
       "    Age  SibSp  Parch   Ticket     Fare Cabin Embarked  \n",
       "0  34.5      0      0   330911   7.8292   NaN        Q  \n",
       "1  47.0      1      0   363272   7.0000   NaN        S  \n",
       "2  62.0      0      0   240276   9.6875   NaN        Q  \n",
       "3  27.0      0      0   315154   8.6625   NaN        S  \n",
       "4  22.0      1      1  3101298  12.2875   NaN        S  "
      ]
     },
     "execution_count": 161,
     "metadata": {},
     "output_type": "execute_result"
    }
   ],
   "source": [
    "prediction_df = pd.read_csv('input/test.csv')\n",
    "\n",
    "prediction_df.head()"
   ]
  },
  {
   "cell_type": "code",
   "execution_count": 162,
   "id": "a05a05d5",
   "metadata": {
    "execution": {
     "iopub.execute_input": "2023-03-08T14:14:06.289453Z",
     "iopub.status.busy": "2023-03-08T14:14:06.288346Z",
     "iopub.status.idle": "2023-03-08T14:14:06.308619Z",
     "shell.execute_reply": "2023-03-08T14:14:06.307349Z"
    },
    "papermill": {
     "duration": 0.061493,
     "end_time": "2023-03-08T14:14:06.311706",
     "exception": false,
     "start_time": "2023-03-08T14:14:06.250213",
     "status": "completed"
    },
    "tags": []
   },
   "outputs": [
    {
     "data": {
      "text/html": [
       "<div>\n",
       "<style scoped>\n",
       "    .dataframe tbody tr th:only-of-type {\n",
       "        vertical-align: middle;\n",
       "    }\n",
       "\n",
       "    .dataframe tbody tr th {\n",
       "        vertical-align: top;\n",
       "    }\n",
       "\n",
       "    .dataframe thead th {\n",
       "        text-align: right;\n",
       "    }\n",
       "</style>\n",
       "<table border=\"1\" class=\"dataframe\">\n",
       "  <thead>\n",
       "    <tr style=\"text-align: right;\">\n",
       "      <th></th>\n",
       "      <th>Pclass</th>\n",
       "      <th>Sex</th>\n",
       "      <th>Age</th>\n",
       "      <th>SibSp</th>\n",
       "      <th>Parch</th>\n",
       "      <th>Fare</th>\n",
       "      <th>Embarked</th>\n",
       "    </tr>\n",
       "  </thead>\n",
       "  <tbody>\n",
       "    <tr>\n",
       "      <th>0</th>\n",
       "      <td>3</td>\n",
       "      <td>0</td>\n",
       "      <td>34.5</td>\n",
       "      <td>0</td>\n",
       "      <td>0</td>\n",
       "      <td>7.8292</td>\n",
       "      <td>1</td>\n",
       "    </tr>\n",
       "    <tr>\n",
       "      <th>1</th>\n",
       "      <td>3</td>\n",
       "      <td>1</td>\n",
       "      <td>47.0</td>\n",
       "      <td>1</td>\n",
       "      <td>0</td>\n",
       "      <td>7.0000</td>\n",
       "      <td>2</td>\n",
       "    </tr>\n",
       "    <tr>\n",
       "      <th>2</th>\n",
       "      <td>2</td>\n",
       "      <td>0</td>\n",
       "      <td>62.0</td>\n",
       "      <td>0</td>\n",
       "      <td>0</td>\n",
       "      <td>9.6875</td>\n",
       "      <td>1</td>\n",
       "    </tr>\n",
       "    <tr>\n",
       "      <th>3</th>\n",
       "      <td>3</td>\n",
       "      <td>0</td>\n",
       "      <td>27.0</td>\n",
       "      <td>0</td>\n",
       "      <td>0</td>\n",
       "      <td>8.6625</td>\n",
       "      <td>2</td>\n",
       "    </tr>\n",
       "    <tr>\n",
       "      <th>4</th>\n",
       "      <td>3</td>\n",
       "      <td>1</td>\n",
       "      <td>22.0</td>\n",
       "      <td>1</td>\n",
       "      <td>1</td>\n",
       "      <td>12.2875</td>\n",
       "      <td>2</td>\n",
       "    </tr>\n",
       "  </tbody>\n",
       "</table>\n",
       "</div>"
      ],
      "text/plain": [
       "   Pclass  Sex   Age  SibSp  Parch     Fare  Embarked\n",
       "0       3    0  34.5      0      0   7.8292         1\n",
       "1       3    1  47.0      1      0   7.0000         2\n",
       "2       2    0  62.0      0      0   9.6875         1\n",
       "3       3    0  27.0      0      0   8.6625         2\n",
       "4       3    1  22.0      1      1  12.2875         2"
      ]
     },
     "execution_count": 162,
     "metadata": {},
     "output_type": "execute_result"
    }
   ],
   "source": [
    "prediction_df_processed = manual_preprocess_df(prediction_df)\n",
    "\n",
    "prediction_df_processed.head()"
   ]
  },
  {
   "cell_type": "code",
   "execution_count": 163,
   "id": "6fc4ca39",
   "metadata": {
    "execution": {
     "iopub.execute_input": "2023-03-08T14:14:06.388282Z",
     "iopub.status.busy": "2023-03-08T14:14:06.387110Z",
     "iopub.status.idle": "2023-03-08T14:14:06.394065Z",
     "shell.execute_reply": "2023-03-08T14:14:06.393216Z"
    },
    "papermill": {
     "duration": 0.04801,
     "end_time": "2023-03-08T14:14:06.396509",
     "exception": false,
     "start_time": "2023-03-08T14:14:06.348499",
     "status": "completed"
    },
    "tags": []
   },
   "outputs": [],
   "source": [
    "prediction_df_processed['Fare'] = prediction_df_processed['Fare'].fillna(prediction_df_processed['Fare'].mean())"
   ]
  },
  {
   "cell_type": "code",
   "execution_count": 164,
   "id": "a464165e",
   "metadata": {
    "execution": {
     "iopub.execute_input": "2023-03-08T14:14:06.471235Z",
     "iopub.status.busy": "2023-03-08T14:14:06.470789Z",
     "iopub.status.idle": "2023-03-08T14:14:06.478142Z",
     "shell.execute_reply": "2023-03-08T14:14:06.476730Z"
    },
    "papermill": {
     "duration": 0.047677,
     "end_time": "2023-03-08T14:14:06.480480",
     "exception": false,
     "start_time": "2023-03-08T14:14:06.432803",
     "status": "completed"
    },
    "tags": []
   },
   "outputs": [],
   "source": [
    "x_prediction = dataScaler.transform(prediction_df_processed)"
   ]
  },
  {
   "cell_type": "code",
   "execution_count": 165,
   "id": "0ee28eb8",
   "metadata": {
    "execution": {
     "iopub.execute_input": "2023-03-08T14:14:06.555696Z",
     "iopub.status.busy": "2023-03-08T14:14:06.554983Z",
     "iopub.status.idle": "2023-03-08T14:14:07.224247Z",
     "shell.execute_reply": "2023-03-08T14:14:07.223092Z"
    },
    "papermill": {
     "duration": 0.710013,
     "end_time": "2023-03-08T14:14:07.227024",
     "exception": false,
     "start_time": "2023-03-08T14:14:06.517011",
     "status": "completed"
    },
    "tags": []
   },
   "outputs": [
    {
     "name": "stdout",
     "output_type": "stream",
     "text": [
      "14/14 [==============================] - 1s 10ms/step\n"
     ]
    }
   ],
   "source": [
    "predictions = model.predict(\n",
    "    x_prediction\n",
    ")"
   ]
  },
  {
   "cell_type": "code",
   "execution_count": 166,
   "id": "375231bc",
   "metadata": {
    "execution": {
     "iopub.execute_input": "2023-03-08T14:14:07.302488Z",
     "iopub.status.busy": "2023-03-08T14:14:07.301707Z",
     "iopub.status.idle": "2023-03-08T14:14:07.322967Z",
     "shell.execute_reply": "2023-03-08T14:14:07.321698Z"
    },
    "papermill": {
     "duration": 0.06239,
     "end_time": "2023-03-08T14:14:07.325577",
     "exception": false,
     "start_time": "2023-03-08T14:14:07.263187",
     "status": "completed"
    },
    "tags": []
   },
   "outputs": [
    {
     "data": {
      "text/html": [
       "<div>\n",
       "<style scoped>\n",
       "    .dataframe tbody tr th:only-of-type {\n",
       "        vertical-align: middle;\n",
       "    }\n",
       "\n",
       "    .dataframe tbody tr th {\n",
       "        vertical-align: top;\n",
       "    }\n",
       "\n",
       "    .dataframe thead th {\n",
       "        text-align: right;\n",
       "    }\n",
       "</style>\n",
       "<table border=\"1\" class=\"dataframe\">\n",
       "  <thead>\n",
       "    <tr style=\"text-align: right;\">\n",
       "      <th></th>\n",
       "      <th>PassengerId</th>\n",
       "      <th>Pclass</th>\n",
       "      <th>Name</th>\n",
       "      <th>Sex</th>\n",
       "      <th>Age</th>\n",
       "      <th>SibSp</th>\n",
       "      <th>Parch</th>\n",
       "      <th>Ticket</th>\n",
       "      <th>Fare</th>\n",
       "      <th>Cabin</th>\n",
       "      <th>Embarked</th>\n",
       "      <th>Survived</th>\n",
       "    </tr>\n",
       "  </thead>\n",
       "  <tbody>\n",
       "    <tr>\n",
       "      <th>0</th>\n",
       "      <td>892</td>\n",
       "      <td>3</td>\n",
       "      <td>Kelly, Mr. James</td>\n",
       "      <td>male</td>\n",
       "      <td>34.5</td>\n",
       "      <td>0</td>\n",
       "      <td>0</td>\n",
       "      <td>330911</td>\n",
       "      <td>7.8292</td>\n",
       "      <td>NaN</td>\n",
       "      <td>Q</td>\n",
       "      <td>0</td>\n",
       "    </tr>\n",
       "    <tr>\n",
       "      <th>1</th>\n",
       "      <td>893</td>\n",
       "      <td>3</td>\n",
       "      <td>Wilkes, Mrs. James (Ellen Needs)</td>\n",
       "      <td>female</td>\n",
       "      <td>47.0</td>\n",
       "      <td>1</td>\n",
       "      <td>0</td>\n",
       "      <td>363272</td>\n",
       "      <td>7.0000</td>\n",
       "      <td>NaN</td>\n",
       "      <td>S</td>\n",
       "      <td>0</td>\n",
       "    </tr>\n",
       "    <tr>\n",
       "      <th>2</th>\n",
       "      <td>894</td>\n",
       "      <td>2</td>\n",
       "      <td>Myles, Mr. Thomas Francis</td>\n",
       "      <td>male</td>\n",
       "      <td>62.0</td>\n",
       "      <td>0</td>\n",
       "      <td>0</td>\n",
       "      <td>240276</td>\n",
       "      <td>9.6875</td>\n",
       "      <td>NaN</td>\n",
       "      <td>Q</td>\n",
       "      <td>0</td>\n",
       "    </tr>\n",
       "    <tr>\n",
       "      <th>3</th>\n",
       "      <td>895</td>\n",
       "      <td>3</td>\n",
       "      <td>Wirz, Mr. Albert</td>\n",
       "      <td>male</td>\n",
       "      <td>27.0</td>\n",
       "      <td>0</td>\n",
       "      <td>0</td>\n",
       "      <td>315154</td>\n",
       "      <td>8.6625</td>\n",
       "      <td>NaN</td>\n",
       "      <td>S</td>\n",
       "      <td>0</td>\n",
       "    </tr>\n",
       "    <tr>\n",
       "      <th>4</th>\n",
       "      <td>896</td>\n",
       "      <td>3</td>\n",
       "      <td>Hirvonen, Mrs. Alexander (Helga E Lindqvist)</td>\n",
       "      <td>female</td>\n",
       "      <td>22.0</td>\n",
       "      <td>1</td>\n",
       "      <td>1</td>\n",
       "      <td>3101298</td>\n",
       "      <td>12.2875</td>\n",
       "      <td>NaN</td>\n",
       "      <td>S</td>\n",
       "      <td>0</td>\n",
       "    </tr>\n",
       "  </tbody>\n",
       "</table>\n",
       "</div>"
      ],
      "text/plain": [
       "   PassengerId  Pclass                                          Name     Sex  \\\n",
       "0          892       3                              Kelly, Mr. James    male   \n",
       "1          893       3              Wilkes, Mrs. James (Ellen Needs)  female   \n",
       "2          894       2                     Myles, Mr. Thomas Francis    male   \n",
       "3          895       3                              Wirz, Mr. Albert    male   \n",
       "4          896       3  Hirvonen, Mrs. Alexander (Helga E Lindqvist)  female   \n",
       "\n",
       "    Age  SibSp  Parch   Ticket     Fare Cabin Embarked  Survived  \n",
       "0  34.5      0      0   330911   7.8292   NaN        Q         0  \n",
       "1  47.0      1      0   363272   7.0000   NaN        S         0  \n",
       "2  62.0      0      0   240276   9.6875   NaN        Q         0  \n",
       "3  27.0      0      0   315154   8.6625   NaN        S         0  \n",
       "4  22.0      1      1  3101298  12.2875   NaN        S         0  "
      ]
     },
     "execution_count": 166,
     "metadata": {},
     "output_type": "execute_result"
    }
   ],
   "source": [
    "result_df = pd.DataFrame(prediction_df)\n",
    "result_df['Survived'] = predictions\n",
    "result_df['Survived'] = result_df['Survived'].apply(lambda x: 1 if x > 0.5 else 0)\n",
    "\n",
    "\n",
    "result_df.head()"
   ]
  },
  {
   "cell_type": "code",
   "execution_count": 167,
   "id": "c9a16982",
   "metadata": {
    "execution": {
     "iopub.execute_input": "2023-03-08T14:14:07.401732Z",
     "iopub.status.busy": "2023-03-08T14:14:07.400444Z",
     "iopub.status.idle": "2023-03-08T14:14:07.409227Z",
     "shell.execute_reply": "2023-03-08T14:14:07.408007Z"
    },
    "papermill": {
     "duration": 0.049735,
     "end_time": "2023-03-08T14:14:07.411855",
     "exception": false,
     "start_time": "2023-03-08T14:14:07.362120",
     "status": "completed"
    },
    "tags": []
   },
   "outputs": [],
   "source": [
    "result_df.drop(columns=[col for col in result_df.columns if col not in ['PassengerId', 'Survived']], inplace=True)"
   ]
  },
  {
   "cell_type": "code",
   "execution_count": 168,
   "id": "2c426542",
   "metadata": {
    "execution": {
     "iopub.execute_input": "2023-03-08T14:14:07.487190Z",
     "iopub.status.busy": "2023-03-08T14:14:07.486532Z",
     "iopub.status.idle": "2023-03-08T14:14:07.500812Z",
     "shell.execute_reply": "2023-03-08T14:14:07.499495Z"
    },
    "papermill": {
     "duration": 0.056177,
     "end_time": "2023-03-08T14:14:07.504238",
     "exception": false,
     "start_time": "2023-03-08T14:14:07.448061",
     "status": "completed"
    },
    "tags": []
   },
   "outputs": [],
   "source": [
    "result_df.to_csv('output/submission.csv')"
   ]
  },
  {
   "cell_type": "code",
   "execution_count": 169,
   "id": "b985e96c",
   "metadata": {},
   "outputs": [
    {
     "name": "stderr",
     "output_type": "stream",
     "text": [
      "c:\\Users\\sinan\\AppData\\Local\\Programs\\Python\\Python38\\lib\\site-packages\\keras\\src\\engine\\training.py:3000: UserWarning: You are saving your model as an HDF5 file via `model.save()`. This file format is considered legacy. We recommend using instead the native Keras format, e.g. `model.save('my_model.keras')`.\n",
      "  saving_api.save_model(\n"
     ]
    }
   ],
   "source": [
    "model.save('model.h5')"
   ]
  },
  {
   "cell_type": "code",
   "execution_count": 170,
   "id": "4a604768",
   "metadata": {},
   "outputs": [
    {
     "data": {
      "text/plain": [
       "['scaler.pkl']"
      ]
     },
     "execution_count": 170,
     "metadata": {},
     "output_type": "execute_result"
    }
   ],
   "source": [
    "import joblib\n",
    "\n",
    "# Ölçeklendiriciyi kaydedin\n",
    "joblib.dump(dataScaler, 'scaler.pkl')"
   ]
  },
  {
   "cell_type": "markdown",
   "id": "ab5cde88",
   "metadata": {
    "papermill": {
     "duration": 0.036216,
     "end_time": "2023-03-08T14:14:07.577609",
     "exception": false,
     "start_time": "2023-03-08T14:14:07.541393",
     "status": "completed"
    },
    "tags": []
   },
   "source": []
  }
 ],
 "metadata": {
  "kernelspec": {
   "display_name": "Python 3",
   "language": "python",
   "name": "python3"
  },
  "language_info": {
   "codemirror_mode": {
    "name": "ipython",
    "version": 3
   },
   "file_extension": ".py",
   "mimetype": "text/x-python",
   "name": "python",
   "nbconvert_exporter": "python",
   "pygments_lexer": "ipython3",
   "version": "3.8.6"
  },
  "papermill": {
   "default_parameters": {},
   "duration": 74.906562,
   "end_time": "2023-03-08T14:14:11.170226",
   "environment_variables": {},
   "exception": null,
   "input_path": "__notebook__.ipynb",
   "output_path": "__notebook__.ipynb",
   "parameters": {},
   "start_time": "2023-03-08T14:12:56.263664",
   "version": "2.4.0"
  }
 },
 "nbformat": 4,
 "nbformat_minor": 5
}
